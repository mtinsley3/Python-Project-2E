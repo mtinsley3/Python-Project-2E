{
 "cells": [
  {
   "cell_type": "markdown",
   "metadata": {},
   "source": [
    "## Project 2E: Influenza A and Sequence Alignment"
   ]
  },
  {
   "cell_type": "markdown",
   "metadata": {},
   "source": [
    "###### Marissa Tinsley, BIMM 143, Spring 2021"
   ]
  },
  {
   "cell_type": "markdown",
   "metadata": {},
   "source": [
    "#### Research Question: Can we compare synthases for host entry receptors for influenza (sialic acid) among pigs and ferrets to determine if the latter are another reservoir for precursor avian influenza viruses between birds and humans and should be under more careful surveillance"
   ]
  },
  {
   "cell_type": "markdown",
   "metadata": {},
   "source": [
    "Avian influenza viruses are a looming threat for the health and well-being of the human population, and there is increasing pandemic potential especially as we begin to share more space with animals that are also affected by their own influenza viruses. The influenza virus reaches its host by attaching to sialic acid receptors, which most animals have. As the distribution of these sialic receptors in animals becomes increasingly similar to that of humans, it increases the risk of zoonosis, the transfer of a virus subtype between animals and humans through mixing vessels (Trebbien, et al., 2011). Much research has confirmed that pigs are an intermediate host for the virus transfer between avian to humans. However, there has been much research on what other animals have the potential to be a mixing vessel for the transfer of pandemic-risk influenza subtypes to humans. One such animal, the ferret, have been speculated to be intermediate hosts for this zoonosis (Zhao et al., 2019). Our protein sequences of interest is the synthases of this sialic acid receptor for influenza, and we want to see if potential similarities of codon sequences can also suggest species susceptibility to influenza subtypes from other animals.\n",
    "\n",
    "The database used was UniProtKB, a site that is a library for the sequences of many different proteins in organisms. We will compare the sequences of sialic acid synthase (often listed as N-acetylneuraminic acid synthase) in humans, avians (pheasant), pigs, our potential new intermediate host (ferret), and a control (mouse)."
   ]
  },
  {
   "cell_type": "markdown",
   "metadata": {},
   "source": [
    "#### Scientific Hypothesis: If there are enough similarities among the synthases for sialic acid receptors between pigs and ferrets, thn both could be equally susceptible for various influenza A subtypes and able to act as a reservoir for new infections between humans and birds through zoonosis."
   ]
  },
  {
   "cell_type": "markdown",
   "metadata": {},
   "source": [
    "After loading all the appropriate packages needed for Multiple Sequence Alignment (MSA), I used UniProt to find the proteins in all the species needed for my comparison (see Part 2 for the chosen species' official scientific names). After assigning the proteins' sequence IDs to the respective animal name, we were able to begin MSA. On UniProt, I took the sequences from the FASTA file format provided on the website and assigned each sialic acid synthase sequence to their respective animal. I then assigned the sequences to one file, and used the alignment scores to create a heatplot that better visualizes the similarity across protein sequences based on alignment scores received."
   ]
  },
  {
   "cell_type": "markdown",
   "metadata": {},
   "source": [
    "## Part 1: Load the Packages Needed for Multiple Sequence Alignment"
   ]
  },
  {
   "cell_type": "markdown",
   "metadata": {},
   "source": [
    "Packages and modules loaded include the following:\n",
    "\n",
    "- pandas: a software library desgined to allow for data manipulation and analysis by the user\n",
    "\n",
    "- numpy: library that allows for data analysis by multi-dimensional arrays, matrices, and mathematical functions\n",
    "\n",
    "- scipy: library that uses mathematical functions to perform tasks related to scientific programming\n",
    "\n",
    "- Bio: contains computations and functions necessary for bioinformatics\n",
    "\n",
    "- matplotlib: allows user to create visualizations in Python\n",
    "\n",
    "- Bio.Align.Applications: allows for sequence alignment functions\n",
    "\n",
    "- SeqRecord: module that allows for input of a sequence along with identifying information\n",
    "\n",
    "- SeqIO: allows for input and output of sequence files in Python\n",
    "\n",
    "- AlignIO: allows for the user to work with files with one or more sequence alignments\n",
    "\n",
    "- pairwise2: contains a programming algorithm that contains functions for both local and global alignment\n",
    "\n",
    "- MultipleSeqAlignment: allows user to perform alignment functions and scores on multiple sequences"
   ]
  },
  {
   "cell_type": "code",
   "execution_count": 55,
   "metadata": {},
   "outputs": [],
   "source": [
    "# Load all the Packages\n",
    "import pandas as pd\n",
    "import numpy as np\n",
    "import scipy as scip\n",
    "import Bio\n",
    "import matplotlib.pyplot as plt\n",
    "from Bio.SeqRecord import SeqRecord\n",
    "from Bio import SeqIO\n",
    "from Bio import AlignIO\n",
    "from Bio import pairwise2\n",
    "from Bio.Align import MultipleSeqAlignment"
   ]
  },
  {
   "cell_type": "markdown",
   "metadata": {},
   "source": [
    "## Part 2: Load in the data and perform analysis"
   ]
  },
  {
   "cell_type": "markdown",
   "metadata": {},
   "source": [
    "UniProt was the database used to find the desired protein (sialic acid synthase) across all five species to be compared. The sequence IDs were assigned to more recognizable variable names in order to be more efficent while maintaining record of where the data was coming from. Afterwards, the five sequences were combined into one FASTA file (synthases.fasta). An array was made with all of the animals listed in the FASTA file, and a for loop was set up to compare all of the sequences in the FASTA to each other. Then, the sequence alignment function was used to compare the sequences and assign scores under specific parameters for mathes, mismatches, and gaps. Finally, our alignment was able to be printed as the array we made in the beginning."
   ]
  },
  {
   "cell_type": "code",
   "execution_count": 56,
   "metadata": {},
   "outputs": [
    {
     "name": "stdout",
     "output_type": "stream",
     "text": [
      "['human', 'mouse', 'pheasant', 'pig', 'ferret']\n"
     ]
    }
   ],
   "source": [
    "# Find all the sequence ids online from UniProt/SwissProt\n",
    "\n",
    "# human (H. Sapien)\n",
    "Q9NR45 = 'human'\n",
    "\n",
    "# mouse (M. musculus)\n",
    "Q99J77 = 'mouse'\n",
    "\n",
    "# pheasant (P. colchicus)\n",
    "A0A669Q821 = 'pheasant'\n",
    "\n",
    "# pig (Sus scrofa)\n",
    "A0A287AFR6 = 'pig'\n",
    "\n",
    "# ferret (M. furo)\n",
    "G9KCG9 = 'ferret'\n",
    "\n",
    "\n",
    "\n",
    "ids = [Q9NR45, Q99J77, A0A669Q821, A0A287AFR6, G9KCG9]\n",
    "print(ids)"
   ]
  },
  {
   "cell_type": "code",
   "execution_count": 57,
   "metadata": {},
   "outputs": [
    {
     "name": "stdout",
     "output_type": "stream",
     "text": [
      "MPLELELCPGRWVGGQHPCFIIAEIGQNHQGDLDVAKRMIRMAKECGADCAKFQKSELEFKFNRKALERPYTSKHSWGKTYGEHKRHLEFSHDQYRELQRYAEEVGIFFTASGMDEMAVEFLHELNVPFFKVGSGDTNNFPYLEKTAKKGRPMVISSGMQSMDTMKQVYQIVKPLNPNFCFLQCTSAYPLQPEDVNLRVISEYQKLFPDIPIGYSGHETGIAISVAAVALGAKVLERHITLDKTWKGSDHSASLEPGELAELVRSVRLVERALGSPTKQLLPCEMACNEKLGKSVVAKVKIPEGTILTMDMLTVKVGEPKGYPPEDIFNLVGKKVLVTVEEDDTIMEELVDNHGKKIKS\n",
      "[[359. 340. 261. 317. 342.]\n",
      " [340. 359. 254. 310. 337.]\n",
      " [261. 254. 359. 247. 255.]\n",
      " [317. 310. 247. 359. 314.]\n",
      " [342. 337. 255. 314. 359.]]\n"
     ]
    }
   ],
   "source": [
    "#Import all five sequences as one FASTA file to be aligned\n",
    "Fasta = list(SeqIO.parse(\"synthases.fasta\", \"fasta\"))\n",
    "alignedsynthases = Fasta[0].seq\n",
    "print(alignedsynthases)\n",
    "\n",
    "#Prepare alignment scores to be set up in an array\n",
    "alignments = np.empty(shape=(len(Fasta),len(Fasta)))\n",
    "\n",
    "#Create a for loop that will allow for sequence comparison\n",
    "for f in range(len(Fasta)):\n",
    "    for g in range(len(Fasta)):\n",
    "        X = Fasta[f].seq\n",
    "        Y = Fasta[g].seq\n",
    "    \n",
    "    # Get a list of the global alignments between the two sequences ACGGGT and ACG\n",
    "    # No parameters. Identical characters have score of 1, else 0.\n",
    "    # No gap penalties.\n",
    "        alignments[f,g] = pairwise2.align.globalxx(X, Y, score_only=True)\n",
    "\n",
    "# Use format_alignment method to format the alignments in the list\n",
    "print(alignments)"
   ]
  },
  {
   "cell_type": "markdown",
   "metadata": {},
   "source": [
    "## Part 3: Creating a Heatplot"
   ]
  },
  {
   "cell_type": "markdown",
   "metadata": {},
   "source": [
    "Matplotlib is a package that allows us to make a visualization of our alignment scores. We used the synthases.fasta file we made to be created into a heatplot, which will be based on the alignment scores of the sequences within it. We defined the alignments score to be the array of the scores from the FASTA file with all our sequences. The axes will be labeled by animals we have compared, and we will be able to see the similarities among their sialic acid synthase sequences. After creating a DataFrame to input our data for the plot, a colorbar was also added with ax.figure.colorbar to give better context to the colors displayed and what they represent in terms of alignment. The alignment is on a scale according to the generated alignment scores, with higher numbers representing more complete alignment between two sequences. Lastly, plt.show() was used to actually show the plot in our Jupyter notebook. We then normalized the scores to get rid of redundancy among the data and showed our final plot."
   ]
  },
  {
   "cell_type": "code",
   "execution_count": 58,
   "metadata": {},
   "outputs": [
    {
     "data": {
      "image/png": "[encoded data removed]",
      "text/plain": [
       "<Figure size 432x288 with 2 Axes>"
      ]
     },
     "metadata": {
      "needs_background": "light"
     },
     "output_type": "display_data"
    }
   ],
   "source": [
    "#Call up the FASTA file to be made into a heatplot\n",
    "Fasta = list(SeqIO.parse(\"synthases.fasta\", \"fasta\"))\n",
    "\n",
    "#Initiate an empty numpy matrix that is the length of the fasta file\n",
    "alignments_score = np.empty(shape=(len(Fasta),len(Fasta)))\n",
    "\n",
    "#Create subplot\n",
    "fig, ax = plt.subplots()\n",
    "\n",
    "# Set the X-axis & Y-Axis ticks\n",
    "ax.set_xticks(np.arange(len(ids)))\n",
    "ax.set_yticks(np.arange(len(ids)))\n",
    "\n",
    "# Label the X and Y axes with specific tick labels (calling the list cpds)\n",
    "ax.set_xticklabels(ids)\n",
    "ax.set_yticklabels(ids)\n",
    "\n",
    "# Show alignment scores in the heatplot\n",
    "plt.imshow(alignments_score)\n",
    "\n",
    "# Instruct the heat map to show the axes\n",
    "im = ax.imshow(alignments_score)\n",
    "\n",
    "#Create a DataFrame\n",
    "df =pd.DataFrame(np.random.randn(len(Fasta), len(Fasta)))\n",
    "\n",
    "# Add a colorbar to the right of the heatmap\n",
    "cbar = ax.figure.colorbar(im)\n",
    "\n",
    "# Save a PNG file with the heatmap\n",
    "plt.savefig('synthasesheatmap.png')\n",
    "\n",
    "# Show the plot\n",
    "plt.show()\n",
    "\n",
    "#Normalize the scores\n",
    "df_norm_col=(df-df.mean())/df.std()\n",
    "df_norm_row=(df-df.mean())/df.std()\n",
    "\n",
    "# Add a colorbar to the right of the heatmap\n",
    "cbar = ax.figure.colorbar(im)\n",
    "\n",
    "# Show the plot\n",
    "plt.show()"
   ]
  },
  {
   "cell_type": "markdown",
   "metadata": {},
   "source": [
    "## Part 4: Analysis of the results"
   ]
  },
  {
   "cell_type": "markdown",
   "metadata": {},
   "source": [
    "The heatplot shows the similarities of codon sequences among all the species being compared. Every colored square represents the alignment score generated for two species' codon sequences of the sialic acid synthase. The diagonal yellow from left to right is representative of the exact similarities having the highest alignment score possible between each other. The synthase sequences that are closer alignment have a lighter color, while the species whose synthase codon sequences are more different from each other. In our hypothesis, wanted to compare the synthase sequences between pigs and ferrets to detect any potential of influenza susceptibility and participation in zoonosis to humans. According to our heatplot, the similarities between pig and ferret synthase codon sequences are less than that of the pig and human, and the ferret and pig.\n",
    "\n",
    "Ferrets' synthases are closer related to humans than that of pigs, but the differences between ferret and pigs is more than the differences they each have from the control (mouse). In other words, pigs and ferrets do not have enough similarity to say that ferrets are another mixing vessel for influenza in the way that pigs are. Our hypothesis was not supported. In the future, to make this study better, more control species could be used, and different species of the animals of interest could be tested to potentially see if there are more susceptible species of pigs and ferrets to influenza. "
   ]
  }
 ],
 "metadata": {
  "kernelspec": {
   "display_name": "Python 3",
   "language": "python",
   "name": "python3"
  },
  "language_info": {
   "codemirror_mode": {
    "name": "ipython",
    "version": 3
   },
   "file_extension": ".py",
   "mimetype": "text/x-python",
   "name": "python",
   "nbconvert_exporter": "python",
   "pygments_lexer": "ipython3",
   "version": "3.8.5"
  }
 },
 "nbformat": 4,
 "nbformat_minor": 4
}
